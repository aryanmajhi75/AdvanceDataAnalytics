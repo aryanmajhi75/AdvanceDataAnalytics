{
  "nbformat": 4,
  "nbformat_minor": 0,
  "metadata": {
    "colab": {
      "provenance": []
    },
    "kernelspec": {
      "name": "python3",
      "display_name": "Python 3"
    },
    "language_info": {
      "name": "python"
    }
  },
  "cells": [
    {
      "cell_type": "code",
      "execution_count": 98,
      "metadata": {
        "id": "2qA4PFsZ9CVK"
      },
      "outputs": [],
      "source": [
        "# pip install nltk"
      ]
    },
    {
      "cell_type": "markdown",
      "source": [
        "## Stemming"
      ],
      "metadata": {
        "id": "pyTvWxr59T-f"
      }
    },
    {
      "cell_type": "code",
      "source": [
        "import nltk\n",
        "from nltk.tokenize import *\n",
        "import re\n",
        "from nltk.stem import PorterStemmer\n",
        "from nltk.stem import LancasterStemmer\n",
        "from nltk.stem import SnowballStemmer\n",
        "from nltk.stem import RegexpStemmer\n",
        "from nltk.corpus import stopwords\n",
        "\n",
        "nltk.download('punkt')\n",
        "nltk.download('stopwords')"
      ],
      "metadata": {
        "colab": {
          "base_uri": "https://localhost:8080/"
        },
        "id": "SoepM4Ry9TDD",
        "outputId": "03044c55-eb16-4dbc-c4f1-2fce35a7b3e6"
      },
      "execution_count": 99,
      "outputs": [
        {
          "output_type": "stream",
          "name": "stderr",
          "text": [
            "[nltk_data] Downloading package punkt to /root/nltk_data...\n",
            "[nltk_data]   Package punkt is already up-to-date!\n",
            "[nltk_data] Downloading package stopwords to /root/nltk_data...\n",
            "[nltk_data]   Package stopwords is already up-to-date!\n"
          ]
        },
        {
          "output_type": "execute_result",
          "data": {
            "text/plain": [
              "True"
            ]
          },
          "metadata": {},
          "execution_count": 99
        }
      ]
    },
    {
      "cell_type": "code",
      "source": [
        "inittext = \"The Carbon Footprint App, 'Ecofy,' stands out as a trailblazing way to enable people to lessen their environmental effect in light of the pressing need to combat climate change. With its foundation in the Flutter framework and its secure back-end services provided by the Appwrite SDK, Ecofy offers a consistent user experience across several platforms while maintaining data integrity and compatibility. By utilizing RNN with LSTM, a type of machine learning model, Ecofy improves carbon emission forecasts and empowers users to take proactive measures to reduce their environmental impact. In addition to standard tracking tools, Ecofy provides a range of services such as real-time air quality monitoring, customized carbon footprint tracking for cars and appliances, and customized recommendations for environmentally friendly living. Ecofy offers a comprehensive approach to sustainable living by combining carbon footprint awareness with an inventive marketplace. This helps users make educated decisions and make real contributions to a greener future.\"\n",
        "\n",
        "sentence=sent_tokenize(inittext)\n",
        "rm_stopwords=[]"
      ],
      "metadata": {
        "id": "IAqy87yJGU77"
      },
      "execution_count": 100,
      "outputs": []
    },
    {
      "cell_type": "markdown",
      "source": [
        "Removing Punctuations"
      ],
      "metadata": {
        "id": "KhUyFFzBGNpC"
      }
    },
    {
      "cell_type": "code",
      "source": [
        "text= re.sub(r'[^\\w\\s]','',inittext)\n",
        "print(\"\\n\\nPunctuation Removed     : \")\n",
        "print(text)"
      ],
      "metadata": {
        "colab": {
          "base_uri": "https://localhost:8080/"
        },
        "id": "wePjfoe5GMHY",
        "outputId": "badb696e-f012-458a-e6c9-c2c6f68de51e"
      },
      "execution_count": 101,
      "outputs": [
        {
          "output_type": "stream",
          "name": "stdout",
          "text": [
            "\n",
            "\n",
            "Punctuation Removed     : \n",
            "The Carbon Footprint App Ecofy stands out as a trailblazing way to enable people to lessen their environmental effect in light of the pressing need to combat climate change With its foundation in the Flutter framework and its secure backend services provided by the Appwrite SDK Ecofy offers a consistent user experience across several platforms while maintaining data integrity and compatibility By utilizing RNN with LSTM a type of machine learning model Ecofy improves carbon emission forecasts and empowers users to take proactive measures to reduce their environmental impact In addition to standard tracking tools Ecofy provides a range of services such as realtime air quality monitoring customized carbon footprint tracking for cars and appliances and customized recommendations for environmentally friendly living Ecofy offers a comprehensive approach to sustainable living by combining carbon footprint awareness with an inventive marketplace This helps users make educated decisions and make real contributions to a greener future\n"
          ]
        }
      ]
    },
    {
      "cell_type": "markdown",
      "source": [
        "Sentence Tokenizer"
      ],
      "metadata": {
        "id": "4h1pccsOF6mE"
      }
    },
    {
      "cell_type": "code",
      "source": [
        "print(\"\\n\\nSentence Tokenizer       : \")\n",
        "print(sentence)"
      ],
      "metadata": {
        "colab": {
          "base_uri": "https://localhost:8080/"
        },
        "id": "R53zjlYIF8XS",
        "outputId": "7752db4d-ff70-4209-dc39-6651e9fa1b79"
      },
      "execution_count": 102,
      "outputs": [
        {
          "output_type": "stream",
          "name": "stdout",
          "text": [
            "\n",
            "\n",
            "Sentence Tokenizer       : \n",
            "[\"The Carbon Footprint App, 'Ecofy,' stands out as a trailblazing way to enable people to lessen their environmental effect in light of the pressing need to combat climate change.\", 'With its foundation in the Flutter framework and its secure back-end services provided by the Appwrite SDK, Ecofy offers a consistent user experience across several platforms while maintaining data integrity and compatibility.', 'By utilizing RNN with LSTM, a type of machine learning model, Ecofy improves carbon emission forecasts and empowers users to take proactive measures to reduce their environmental impact.', 'In addition to standard tracking tools, Ecofy provides a range of services such as real-time air quality monitoring, customized carbon footprint tracking for cars and appliances, and customized recommendations for environmentally friendly living.', 'Ecofy offers a comprehensive approach to sustainable living by combining carbon footprint awareness with an inventive marketplace.', 'This helps users make educated decisions and make real contributions to a greener future.']\n"
          ]
        }
      ]
    },
    {
      "cell_type": "markdown",
      "source": [
        "Word Tokenizer"
      ],
      "metadata": {
        "id": "6CQNMKsmFzFH"
      }
    },
    {
      "cell_type": "code",
      "source": [
        "word=word_tokenize(text)\n",
        "\n",
        "print(\"\\n\\nWord Tokenizer           : \")\n",
        "print(word)"
      ],
      "metadata": {
        "colab": {
          "base_uri": "https://localhost:8080/"
        },
        "id": "-YtqQVDfFyrZ",
        "outputId": "68ff9e26-0d46-480d-9dd1-eddb94afa63d"
      },
      "execution_count": 103,
      "outputs": [
        {
          "output_type": "stream",
          "name": "stdout",
          "text": [
            "\n",
            "\n",
            "Word Tokenizer           : \n",
            "['The', 'Carbon', 'Footprint', 'App', 'Ecofy', 'stands', 'out', 'as', 'a', 'trailblazing', 'way', 'to', 'enable', 'people', 'to', 'lessen', 'their', 'environmental', 'effect', 'in', 'light', 'of', 'the', 'pressing', 'need', 'to', 'combat', 'climate', 'change', 'With', 'its', 'foundation', 'in', 'the', 'Flutter', 'framework', 'and', 'its', 'secure', 'backend', 'services', 'provided', 'by', 'the', 'Appwrite', 'SDK', 'Ecofy', 'offers', 'a', 'consistent', 'user', 'experience', 'across', 'several', 'platforms', 'while', 'maintaining', 'data', 'integrity', 'and', 'compatibility', 'By', 'utilizing', 'RNN', 'with', 'LSTM', 'a', 'type', 'of', 'machine', 'learning', 'model', 'Ecofy', 'improves', 'carbon', 'emission', 'forecasts', 'and', 'empowers', 'users', 'to', 'take', 'proactive', 'measures', 'to', 'reduce', 'their', 'environmental', 'impact', 'In', 'addition', 'to', 'standard', 'tracking', 'tools', 'Ecofy', 'provides', 'a', 'range', 'of', 'services', 'such', 'as', 'realtime', 'air', 'quality', 'monitoring', 'customized', 'carbon', 'footprint', 'tracking', 'for', 'cars', 'and', 'appliances', 'and', 'customized', 'recommendations', 'for', 'environmentally', 'friendly', 'living', 'Ecofy', 'offers', 'a', 'comprehensive', 'approach', 'to', 'sustainable', 'living', 'by', 'combining', 'carbon', 'footprint', 'awareness', 'with', 'an', 'inventive', 'marketplace', 'This', 'helps', 'users', 'make', 'educated', 'decisions', 'and', 'make', 'real', 'contributions', 'to', 'a', 'greener', 'future']\n"
          ]
        }
      ]
    },
    {
      "cell_type": "markdown",
      "source": [
        "Removing Stop Words"
      ],
      "metadata": {
        "id": "vR3kzh9yFq3P"
      }
    },
    {
      "cell_type": "code",
      "source": [
        "stop_words = set(stopwords.words('english'))\n",
        "for w in word:\n",
        "    if w not in stop_words:\n",
        "        rm_stopwords.append(w)\n",
        "\n",
        "print(\"\\n\\nAfter removing stop words : \")\n",
        "print(rm_stopwords)"
      ],
      "metadata": {
        "colab": {
          "base_uri": "https://localhost:8080/"
        },
        "id": "dUdQrSMMFrZ8",
        "outputId": "b0822999-803d-4d59-f273-99b070a38860"
      },
      "execution_count": 104,
      "outputs": [
        {
          "output_type": "stream",
          "name": "stdout",
          "text": [
            "\n",
            "\n",
            "After removing stop words : \n",
            "['The', 'Carbon', 'Footprint', 'App', 'Ecofy', 'stands', 'trailblazing', 'way', 'enable', 'people', 'lessen', 'environmental', 'effect', 'light', 'pressing', 'need', 'combat', 'climate', 'change', 'With', 'foundation', 'Flutter', 'framework', 'secure', 'backend', 'services', 'provided', 'Appwrite', 'SDK', 'Ecofy', 'offers', 'consistent', 'user', 'experience', 'across', 'several', 'platforms', 'maintaining', 'data', 'integrity', 'compatibility', 'By', 'utilizing', 'RNN', 'LSTM', 'type', 'machine', 'learning', 'model', 'Ecofy', 'improves', 'carbon', 'emission', 'forecasts', 'empowers', 'users', 'take', 'proactive', 'measures', 'reduce', 'environmental', 'impact', 'In', 'addition', 'standard', 'tracking', 'tools', 'Ecofy', 'provides', 'range', 'services', 'realtime', 'air', 'quality', 'monitoring', 'customized', 'carbon', 'footprint', 'tracking', 'cars', 'appliances', 'customized', 'recommendations', 'environmentally', 'friendly', 'living', 'Ecofy', 'offers', 'comprehensive', 'approach', 'sustainable', 'living', 'combining', 'carbon', 'footprint', 'awareness', 'inventive', 'marketplace', 'This', 'helps', 'users', 'make', 'educated', 'decisions', 'make', 'real', 'contributions', 'greener', 'future']\n"
          ]
        }
      ]
    },
    {
      "cell_type": "markdown",
      "source": [
        "Porter Stemmer"
      ],
      "metadata": {
        "id": "EakHd_66FkBm"
      }
    },
    {
      "cell_type": "code",
      "source": [
        "print(\"\\n\\nProter Stemming                  : \\n\")\n",
        "print()\n",
        "ps = PorterStemmer()\n",
        "for w in rm_stopwords:\n",
        "    print(w, \" : \", ps.stem(w))"
      ],
      "metadata": {
        "colab": {
          "base_uri": "https://localhost:8080/"
        },
        "id": "1UndMWAVFiLZ",
        "outputId": "c6fd4326-0aa4-4a6d-e852-20fbac155795"
      },
      "execution_count": 105,
      "outputs": [
        {
          "output_type": "stream",
          "name": "stdout",
          "text": [
            "\n",
            "\n",
            "Proter Stemming                  : \n",
            "\n",
            "\n",
            "The  :  the\n",
            "Carbon  :  carbon\n",
            "Footprint  :  footprint\n",
            "App  :  app\n",
            "Ecofy  :  ecofi\n",
            "stands  :  stand\n",
            "trailblazing  :  trailblaz\n",
            "way  :  way\n",
            "enable  :  enabl\n",
            "people  :  peopl\n",
            "lessen  :  lessen\n",
            "environmental  :  environment\n",
            "effect  :  effect\n",
            "light  :  light\n",
            "pressing  :  press\n",
            "need  :  need\n",
            "combat  :  combat\n",
            "climate  :  climat\n",
            "change  :  chang\n",
            "With  :  with\n",
            "foundation  :  foundat\n",
            "Flutter  :  flutter\n",
            "framework  :  framework\n",
            "secure  :  secur\n",
            "backend  :  backend\n",
            "services  :  servic\n",
            "provided  :  provid\n",
            "Appwrite  :  appwrit\n",
            "SDK  :  sdk\n",
            "Ecofy  :  ecofi\n",
            "offers  :  offer\n",
            "consistent  :  consist\n",
            "user  :  user\n",
            "experience  :  experi\n",
            "across  :  across\n",
            "several  :  sever\n",
            "platforms  :  platform\n",
            "maintaining  :  maintain\n",
            "data  :  data\n",
            "integrity  :  integr\n",
            "compatibility  :  compat\n",
            "By  :  by\n",
            "utilizing  :  util\n",
            "RNN  :  rnn\n",
            "LSTM  :  lstm\n",
            "type  :  type\n",
            "machine  :  machin\n",
            "learning  :  learn\n",
            "model  :  model\n",
            "Ecofy  :  ecofi\n",
            "improves  :  improv\n",
            "carbon  :  carbon\n",
            "emission  :  emiss\n",
            "forecasts  :  forecast\n",
            "empowers  :  empow\n",
            "users  :  user\n",
            "take  :  take\n",
            "proactive  :  proactiv\n",
            "measures  :  measur\n",
            "reduce  :  reduc\n",
            "environmental  :  environment\n",
            "impact  :  impact\n",
            "In  :  in\n",
            "addition  :  addit\n",
            "standard  :  standard\n",
            "tracking  :  track\n",
            "tools  :  tool\n",
            "Ecofy  :  ecofi\n",
            "provides  :  provid\n",
            "range  :  rang\n",
            "services  :  servic\n",
            "realtime  :  realtim\n",
            "air  :  air\n",
            "quality  :  qualiti\n",
            "monitoring  :  monitor\n",
            "customized  :  custom\n",
            "carbon  :  carbon\n",
            "footprint  :  footprint\n",
            "tracking  :  track\n",
            "cars  :  car\n",
            "appliances  :  applianc\n",
            "customized  :  custom\n",
            "recommendations  :  recommend\n",
            "environmentally  :  environment\n",
            "friendly  :  friendli\n",
            "living  :  live\n",
            "Ecofy  :  ecofi\n",
            "offers  :  offer\n",
            "comprehensive  :  comprehens\n",
            "approach  :  approach\n",
            "sustainable  :  sustain\n",
            "living  :  live\n",
            "combining  :  combin\n",
            "carbon  :  carbon\n",
            "footprint  :  footprint\n",
            "awareness  :  awar\n",
            "inventive  :  invent\n",
            "marketplace  :  marketplac\n",
            "This  :  thi\n",
            "helps  :  help\n",
            "users  :  user\n",
            "make  :  make\n",
            "educated  :  educ\n",
            "decisions  :  decis\n",
            "make  :  make\n",
            "real  :  real\n",
            "contributions  :  contribut\n",
            "greener  :  greener\n",
            "future  :  futur\n"
          ]
        }
      ]
    },
    {
      "cell_type": "markdown",
      "source": [
        "Lancaster Stemmer"
      ],
      "metadata": {
        "id": "7Kj_QQG3MWX2"
      }
    },
    {
      "cell_type": "code",
      "source": [
        "print(\"\\n\\Lancaster Stemming                  : \\n\")\n",
        "print()\n",
        "ls = LancasterStemmer()\n",
        "for w in rm_stopwords:\n",
        "    print(w, \" : \", ls.stem(w))"
      ],
      "metadata": {
        "colab": {
          "base_uri": "https://localhost:8080/"
        },
        "id": "RhChkHo8MY5D",
        "outputId": "b360f2bc-2565-459c-eb44-9b1a1d846645"
      },
      "execution_count": 106,
      "outputs": [
        {
          "output_type": "stream",
          "name": "stdout",
          "text": [
            "\n",
            "\\Lancaster Stemming                  : \n",
            "\n",
            "\n",
            "The  :  the\n",
            "Carbon  :  carbon\n",
            "Footprint  :  footprint\n",
            "App  :  ap\n",
            "Ecofy  :  ecofy\n",
            "stands  :  stand\n",
            "trailblazing  :  trailblaz\n",
            "way  :  way\n",
            "enable  :  en\n",
            "people  :  peopl\n",
            "lessen  :  less\n",
            "environmental  :  environ\n",
            "effect  :  effect\n",
            "light  :  light\n",
            "pressing  :  press\n",
            "need  :  nee\n",
            "combat  :  comb\n",
            "climate  :  clim\n",
            "change  :  chang\n",
            "With  :  with\n",
            "foundation  :  found\n",
            "Flutter  :  flut\n",
            "framework  :  framework\n",
            "secure  :  sec\n",
            "backend  :  backend\n",
            "services  :  serv\n",
            "provided  :  provid\n",
            "Appwrite  :  appwrit\n",
            "SDK  :  sdk\n",
            "Ecofy  :  ecofy\n",
            "offers  :  off\n",
            "consistent  :  consist\n",
            "user  :  us\n",
            "experience  :  expery\n",
            "across  :  across\n",
            "several  :  sev\n",
            "platforms  :  platform\n",
            "maintaining  :  maintain\n",
            "data  :  dat\n",
            "integrity  :  integr\n",
            "compatibility  :  compat\n",
            "By  :  by\n",
            "utilizing  :  util\n",
            "RNN  :  rnn\n",
            "LSTM  :  lstm\n",
            "type  :  typ\n",
            "machine  :  machin\n",
            "learning  :  learn\n",
            "model  :  model\n",
            "Ecofy  :  ecofy\n",
            "improves  :  improv\n",
            "carbon  :  carbon\n",
            "emission  :  emit\n",
            "forecasts  :  forecast\n",
            "empowers  :  empow\n",
            "users  :  us\n",
            "take  :  tak\n",
            "proactive  :  proact\n",
            "measures  :  meas\n",
            "reduce  :  reduc\n",
            "environmental  :  environ\n",
            "impact  :  impact\n",
            "In  :  in\n",
            "addition  :  addit\n",
            "standard  :  standard\n",
            "tracking  :  track\n",
            "tools  :  tool\n",
            "Ecofy  :  ecofy\n",
            "provides  :  provid\n",
            "range  :  rang\n",
            "services  :  serv\n",
            "realtime  :  realtim\n",
            "air  :  air\n",
            "quality  :  qual\n",
            "monitoring  :  monit\n",
            "customized  :  custom\n",
            "carbon  :  carbon\n",
            "footprint  :  footprint\n",
            "tracking  :  track\n",
            "cars  :  car\n",
            "appliances  :  apply\n",
            "customized  :  custom\n",
            "recommendations  :  recommend\n",
            "environmentally  :  environ\n",
            "friendly  :  friend\n",
            "living  :  liv\n",
            "Ecofy  :  ecofy\n",
            "offers  :  off\n",
            "comprehensive  :  comprehend\n",
            "approach  :  approach\n",
            "sustainable  :  sustain\n",
            "living  :  liv\n",
            "combining  :  combin\n",
            "carbon  :  carbon\n",
            "footprint  :  footprint\n",
            "awareness  :  aw\n",
            "inventive  :  inv\n",
            "marketplace  :  marketplac\n",
            "This  :  thi\n",
            "helps  :  help\n",
            "users  :  us\n",
            "make  :  mak\n",
            "educated  :  educ\n",
            "decisions  :  decid\n",
            "make  :  mak\n",
            "real  :  real\n",
            "contributions  :  contribut\n",
            "greener  :  green\n",
            "future  :  fut\n"
          ]
        }
      ]
    },
    {
      "cell_type": "markdown",
      "source": [
        "Snowball Stemmer"
      ],
      "metadata": {
        "id": "T4VRX0JzMZTL"
      }
    },
    {
      "cell_type": "code",
      "source": [
        "print(\"\\n\\nSnowball Stemming                  : \\n\")\n",
        "print()\n",
        "ss = SnowballStemmer(language='english')\n",
        "for w in rm_stopwords:\n",
        "    print(w, \" : \", ss.stem(w))"
      ],
      "metadata": {
        "colab": {
          "base_uri": "https://localhost:8080/"
        },
        "id": "8hJelHvYMb2h",
        "outputId": "24e8d197-3d7e-41bb-ab5a-05fd53c6c8f1"
      },
      "execution_count": 107,
      "outputs": [
        {
          "output_type": "stream",
          "name": "stdout",
          "text": [
            "\n",
            "\n",
            "Snowball Stemming                  : \n",
            "\n",
            "\n",
            "The  :  the\n",
            "Carbon  :  carbon\n",
            "Footprint  :  footprint\n",
            "App  :  app\n",
            "Ecofy  :  ecofi\n",
            "stands  :  stand\n",
            "trailblazing  :  trailblaz\n",
            "way  :  way\n",
            "enable  :  enabl\n",
            "people  :  peopl\n",
            "lessen  :  lessen\n",
            "environmental  :  environment\n",
            "effect  :  effect\n",
            "light  :  light\n",
            "pressing  :  press\n",
            "need  :  need\n",
            "combat  :  combat\n",
            "climate  :  climat\n",
            "change  :  chang\n",
            "With  :  with\n",
            "foundation  :  foundat\n",
            "Flutter  :  flutter\n",
            "framework  :  framework\n",
            "secure  :  secur\n",
            "backend  :  backend\n",
            "services  :  servic\n",
            "provided  :  provid\n",
            "Appwrite  :  appwrit\n",
            "SDK  :  sdk\n",
            "Ecofy  :  ecofi\n",
            "offers  :  offer\n",
            "consistent  :  consist\n",
            "user  :  user\n",
            "experience  :  experi\n",
            "across  :  across\n",
            "several  :  sever\n",
            "platforms  :  platform\n",
            "maintaining  :  maintain\n",
            "data  :  data\n",
            "integrity  :  integr\n",
            "compatibility  :  compat\n",
            "By  :  by\n",
            "utilizing  :  util\n",
            "RNN  :  rnn\n",
            "LSTM  :  lstm\n",
            "type  :  type\n",
            "machine  :  machin\n",
            "learning  :  learn\n",
            "model  :  model\n",
            "Ecofy  :  ecofi\n",
            "improves  :  improv\n",
            "carbon  :  carbon\n",
            "emission  :  emiss\n",
            "forecasts  :  forecast\n",
            "empowers  :  empow\n",
            "users  :  user\n",
            "take  :  take\n",
            "proactive  :  proactiv\n",
            "measures  :  measur\n",
            "reduce  :  reduc\n",
            "environmental  :  environment\n",
            "impact  :  impact\n",
            "In  :  in\n",
            "addition  :  addit\n",
            "standard  :  standard\n",
            "tracking  :  track\n",
            "tools  :  tool\n",
            "Ecofy  :  ecofi\n",
            "provides  :  provid\n",
            "range  :  rang\n",
            "services  :  servic\n",
            "realtime  :  realtim\n",
            "air  :  air\n",
            "quality  :  qualiti\n",
            "monitoring  :  monitor\n",
            "customized  :  custom\n",
            "carbon  :  carbon\n",
            "footprint  :  footprint\n",
            "tracking  :  track\n",
            "cars  :  car\n",
            "appliances  :  applianc\n",
            "customized  :  custom\n",
            "recommendations  :  recommend\n",
            "environmentally  :  environment\n",
            "friendly  :  friend\n",
            "living  :  live\n",
            "Ecofy  :  ecofi\n",
            "offers  :  offer\n",
            "comprehensive  :  comprehens\n",
            "approach  :  approach\n",
            "sustainable  :  sustain\n",
            "living  :  live\n",
            "combining  :  combin\n",
            "carbon  :  carbon\n",
            "footprint  :  footprint\n",
            "awareness  :  awar\n",
            "inventive  :  invent\n",
            "marketplace  :  marketplac\n",
            "This  :  this\n",
            "helps  :  help\n",
            "users  :  user\n",
            "make  :  make\n",
            "educated  :  educ\n",
            "decisions  :  decis\n",
            "make  :  make\n",
            "real  :  real\n",
            "contributions  :  contribut\n",
            "greener  :  greener\n",
            "future  :  futur\n"
          ]
        }
      ]
    },
    {
      "cell_type": "markdown",
      "source": [
        "Regex Stemmer"
      ],
      "metadata": {
        "id": "j_WhV8TeN2cz"
      }
    },
    {
      "cell_type": "code",
      "source": [
        "print(\"\\n\\nSnowball Stemming                  : \\n\")\n",
        "print()\n",
        "rs = RegexpStemmer('ing$|ful$|able$|ness|s$|al$|d$|ive$|er$|ion$|ions$|ition$|', min=1)\n",
        "for w in rm_stopwords:\n",
        "    print(w, \" : \", rs.stem(w))"
      ],
      "metadata": {
        "colab": {
          "base_uri": "https://localhost:8080/"
        },
        "id": "gsayRpFaN3ow",
        "outputId": "da7e4aae-4c1e-4368-a0f6-c4d5715703f4"
      },
      "execution_count": 110,
      "outputs": [
        {
          "output_type": "stream",
          "name": "stdout",
          "text": [
            "\n",
            "\n",
            "Snowball Stemming                  : \n",
            "\n",
            "\n",
            "The  :  The\n",
            "Carbon  :  Carbon\n",
            "Footprint  :  Footprint\n",
            "App  :  App\n",
            "Ecofy  :  Ecofy\n",
            "stands  :  stand\n",
            "trailblazing  :  trailblaz\n",
            "way  :  way\n",
            "enable  :  en\n",
            "people  :  people\n",
            "lessen  :  lessen\n",
            "environmental  :  environment\n",
            "effect  :  effect\n",
            "light  :  light\n",
            "pressing  :  press\n",
            "need  :  nee\n",
            "combat  :  combat\n",
            "climate  :  climate\n",
            "change  :  change\n",
            "With  :  With\n",
            "foundation  :  foundat\n",
            "Flutter  :  Flutt\n",
            "framework  :  framework\n",
            "secure  :  secure\n",
            "backend  :  backen\n",
            "services  :  service\n",
            "provided  :  provide\n",
            "Appwrite  :  Appwrite\n",
            "SDK  :  SDK\n",
            "Ecofy  :  Ecofy\n",
            "offers  :  offer\n",
            "consistent  :  consistent\n",
            "user  :  us\n",
            "experience  :  experience\n",
            "across  :  acros\n",
            "several  :  sever\n",
            "platforms  :  platform\n",
            "maintaining  :  maintain\n",
            "data  :  data\n",
            "integrity  :  integrity\n",
            "compatibility  :  compatibility\n",
            "By  :  By\n",
            "utilizing  :  utiliz\n",
            "RNN  :  RNN\n",
            "LSTM  :  LSTM\n",
            "type  :  type\n",
            "machine  :  machine\n",
            "learning  :  learn\n",
            "model  :  model\n",
            "Ecofy  :  Ecofy\n",
            "improves  :  improve\n",
            "carbon  :  carbon\n",
            "emission  :  emiss\n",
            "forecasts  :  forecast\n",
            "empowers  :  empower\n",
            "users  :  user\n",
            "take  :  take\n",
            "proactive  :  proact\n",
            "measures  :  measure\n",
            "reduce  :  reduce\n",
            "environmental  :  environment\n",
            "impact  :  impact\n",
            "In  :  In\n",
            "addition  :  add\n",
            "standard  :  standar\n",
            "tracking  :  track\n",
            "tools  :  tool\n",
            "Ecofy  :  Ecofy\n",
            "provides  :  provide\n",
            "range  :  range\n",
            "services  :  service\n",
            "realtime  :  realtime\n",
            "air  :  air\n",
            "quality  :  quality\n",
            "monitoring  :  monitor\n",
            "customized  :  customize\n",
            "carbon  :  carbon\n",
            "footprint  :  footprint\n",
            "tracking  :  track\n",
            "cars  :  car\n",
            "appliances  :  appliance\n",
            "customized  :  customize\n",
            "recommendations  :  recommendat\n",
            "environmentally  :  environmentally\n",
            "friendly  :  friendly\n",
            "living  :  liv\n",
            "Ecofy  :  Ecofy\n",
            "offers  :  offer\n",
            "comprehensive  :  comprehens\n",
            "approach  :  approach\n",
            "sustainable  :  sustain\n",
            "living  :  liv\n",
            "combining  :  combin\n",
            "carbon  :  carbon\n",
            "footprint  :  footprint\n",
            "awareness  :  aware\n",
            "inventive  :  invent\n",
            "marketplace  :  marketplace\n",
            "This  :  Thi\n",
            "helps  :  help\n",
            "users  :  user\n",
            "make  :  make\n",
            "educated  :  educate\n",
            "decisions  :  decis\n",
            "make  :  make\n",
            "real  :  re\n",
            "contributions  :  contribut\n",
            "greener  :  green\n",
            "future  :  future\n"
          ]
        }
      ]
    }
  ]
}